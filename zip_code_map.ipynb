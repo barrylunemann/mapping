{
  "nbformat": 4,
  "nbformat_minor": 0,
  "metadata": {
    "colab": {
      "name": "zip_code_map.ipynb",
      "provenance": [],
      "mount_file_id": "19_gOMdDixoRiVBSZg20Yw7IFRxumcgK7",
      "authorship_tag": "ABX9TyOWEk8Iw9T69N4diW/JpH1e",
      "include_colab_link": true
    },
    "kernelspec": {
      "name": "python3",
      "display_name": "Python 3"
    },
    "language_info": {
      "name": "python"
    }
  },
  "cells": [
    {
      "cell_type": "markdown",
      "metadata": {
        "id": "view-in-github",
        "colab_type": "text"
      },
      "source": [
        "<a href=\"https://colab.research.google.com/github/barrylunemann/mapping/blob/main/zip_code_map.ipynb\" target=\"_parent\"><img src=\"https://colab.research.google.com/assets/colab-badge.svg\" alt=\"Open In Colab\"/></a>"
      ]
    },
    {
      "cell_type": "code",
      "execution_count": 53,
      "metadata": {
        "id": "vXttDkdRFHdQ"
      },
      "outputs": [],
      "source": [
        "# A script to create an interactive map with highlighted zip codes\n",
        "# This would best be used to show service area or a heatmap if you score your\n",
        "# Zip Codes with that purpose.\n",
        "\n",
        "# Your Excel file must have a column named \"Zip Code\" and one named\n",
        "# \"Zip Code Score\""
      ]
    },
    {
      "cell_type": "code",
      "source": [
        "!pip install geopandas\n",
        "import folium\n",
        "import pandas as pd\n",
        "import geopandas as gpd\n",
        "import branca.colormap as cm\n",
        "from branca.element import Template, MacroElement"
      ],
      "metadata": {
        "colab": {
          "base_uri": "https://localhost:8080/"
        },
        "id": "xYAR2uN9GZWJ",
        "outputId": "5b011c81-9427-4180-fb2a-9e097f9c845a"
      },
      "execution_count": 54,
      "outputs": [
        {
          "output_type": "stream",
          "name": "stdout",
          "text": [
            "Requirement already satisfied: geopandas in /usr/local/lib/python3.7/dist-packages (0.10.2)\n",
            "Requirement already satisfied: shapely>=1.6 in /usr/local/lib/python3.7/dist-packages (from geopandas) (1.8.2)\n",
            "Requirement already satisfied: pyproj>=2.2.0 in /usr/local/lib/python3.7/dist-packages (from geopandas) (3.2.1)\n",
            "Requirement already satisfied: pandas>=0.25.0 in /usr/local/lib/python3.7/dist-packages (from geopandas) (1.3.5)\n",
            "Requirement already satisfied: fiona>=1.8 in /usr/local/lib/python3.7/dist-packages (from geopandas) (1.8.21)\n",
            "Requirement already satisfied: attrs>=17 in /usr/local/lib/python3.7/dist-packages (from fiona>=1.8->geopandas) (21.4.0)\n",
            "Requirement already satisfied: click-plugins>=1.0 in /usr/local/lib/python3.7/dist-packages (from fiona>=1.8->geopandas) (1.1.1)\n",
            "Requirement already satisfied: six>=1.7 in /usr/local/lib/python3.7/dist-packages (from fiona>=1.8->geopandas) (1.15.0)\n",
            "Requirement already satisfied: cligj>=0.5 in /usr/local/lib/python3.7/dist-packages (from fiona>=1.8->geopandas) (0.7.2)\n",
            "Requirement already satisfied: setuptools in /usr/local/lib/python3.7/dist-packages (from fiona>=1.8->geopandas) (57.4.0)\n",
            "Requirement already satisfied: certifi in /usr/local/lib/python3.7/dist-packages (from fiona>=1.8->geopandas) (2021.10.8)\n",
            "Requirement already satisfied: munch in /usr/local/lib/python3.7/dist-packages (from fiona>=1.8->geopandas) (2.5.0)\n",
            "Requirement already satisfied: click>=4.0 in /usr/local/lib/python3.7/dist-packages (from fiona>=1.8->geopandas) (7.1.2)\n",
            "Requirement already satisfied: pytz>=2017.3 in /usr/local/lib/python3.7/dist-packages (from pandas>=0.25.0->geopandas) (2022.1)\n",
            "Requirement already satisfied: numpy>=1.17.3 in /usr/local/lib/python3.7/dist-packages (from pandas>=0.25.0->geopandas) (1.21.6)\n",
            "Requirement already satisfied: python-dateutil>=2.7.3 in /usr/local/lib/python3.7/dist-packages (from pandas>=0.25.0->geopandas) (2.8.2)\n"
          ]
        }
      ]
    },
    {
      "cell_type": "code",
      "source": [
        "# Use this to mount your Google Drive to the script.\n",
        "# When this line runs, it will ask for permission to access your drive.\n",
        "# I will not have access to this, it will only give the session you are in\n",
        "# access to your drive.\n",
        "from google.colab import drive\n",
        "drive.mount('/content/drive')"
      ],
      "metadata": {
        "colab": {
          "base_uri": "https://localhost:8080/"
        },
        "id": "9O0PBKr3FjDC",
        "outputId": "ce24c2f6-c958-46b2-fc78-f6039ac3fff9"
      },
      "execution_count": 55,
      "outputs": [
        {
          "output_type": "stream",
          "name": "stdout",
          "text": [
            "Drive already mounted at /content/drive; to attempt to forcibly remount, call drive.mount(\"/content/drive\", force_remount=True).\n"
          ]
        }
      ]
    },
    {
      "cell_type": "markdown",
      "source": [
        "# **Here is where you enter your inputs.**"
      ],
      "metadata": {
        "id": "VZ9QzlJkOASj"
      }
    },
    {
      "cell_type": "code",
      "source": [
        "# Here is where you would enter your inputs.\n",
        "\n",
        "# Starting Coordinates of the map. I entered the default\n",
        "# as a zoomed out view of the USA. You can use Google Maps to find the\n",
        "# center of whatever you would like it centered on.\n",
        "starting_coordinates = (39.131324555683335, -94.75295974259164)\n",
        "\n",
        "# How zoomed in do you want it?\n",
        "zoom_selection = 5\n",
        "\n",
        "# Import your excel file (reminder you need Zip Code and Zip Code Score)\n",
        "# You will need to copy the link location to your own Google Drive\n",
        "main_file = pd.read_excel('/content/drive/MyDrive/Colab Notebooks/Data/MN and WI Example.xlsx',\n",
        "                          sheet_name='Sheet1',\n",
        "                          dtype={'Zip Code': str})\n",
        "\n",
        "# Pull in Zip Code geometry data. This is needed to draw the lines on the maps.\n",
        "geo_zip = gpd.read_file(r\"/content/drive/MyDrive/Colab Notebooks/Data/Zip Code Shape Data/cb_2018_us_zcta510_500k.shp\")\n",
        "geo_zip.rename(columns={'ZCTA5CE10': 'Zip Code'}, inplace=True)\n",
        "\n",
        "# What colors do you want to map your zip code scores? (need to be in HEX)\n",
        "# This will both be the line color as well as the fill.\n",
        "# You can add as many numbers as you want, just make sure there is a comma\n",
        "# between each.\n",
        "color_fill_dictionary = {1: '#0088D8',\n",
        "                         2: '#00A82D'}\n",
        "\n",
        "# How transparent do you want the zip code fill.\n",
        "# I included this one just in case you want to change the default.\n",
        "fill_opacity = 0.7\n",
        "\n",
        "# Tool tip pop-ups on the zip codes. If you have other columns in your Excel\n",
        "# file that you would like to show up when you click on or hover over a zip code\n",
        "# this is where you need to list them.\n",
        "column_list = ['Zip Code',\n",
        "               'City',\n",
        "               'Population',\n",
        "               'Income',\n",
        "               'State',\n",
        "               'Market Name']\n",
        "\n",
        "# Name your output file\n",
        "output_filename = \"Output File\""
      ],
      "metadata": {
        "id": "tFurlO6NF2v3"
      },
      "execution_count": null,
      "outputs": []
    },
    {
      "cell_type": "code",
      "source": [
        "main_file.columns"
      ],
      "metadata": {
        "id": "Wca_IZugNstF"
      },
      "execution_count": null,
      "outputs": []
    },
    {
      "cell_type": "code",
      "source": [
        "# Creating the map object\n",
        "sweet_new_map = folium.Map(starting_coordinates,\n",
        "                           tiles='openstreetmap',\n",
        "                           zoom_start=zoom_selection)"
      ],
      "metadata": {
        "id": "6RFbtGM9LGvc"
      },
      "execution_count": null,
      "outputs": []
    },
    {
      "cell_type": "code",
      "source": [
        "# Merging your zip code list with zip code shape data\n",
        "main_file = geo_zip.merge(main_file, on='Zip Code', how='left')\n",
        "main_file = main_file.dropna(subset=['Zip Code Score'])\n",
        "main_file.fillna('', inplace=True)"
      ],
      "metadata": {
        "id": "daI_vWyAMMxo"
      },
      "execution_count": null,
      "outputs": []
    },
    {
      "cell_type": "code",
      "source": [
        "# Creating function to apply the correct colors\n",
        "style_function = lambda x: {\n",
        "                            'fillColor': color_fill_dictionary[x['properties']['Zip Code Score']],\n",
        "                            'color': 'black',\n",
        "                            'weight': 0.3,\n",
        "                            'fillOpacity': fill_opacity}"
      ],
      "metadata": {
        "id": "jw8UTeg_LeEa"
      },
      "execution_count": null,
      "outputs": []
    },
    {
      "cell_type": "code",
      "source": [
        "# Applying the scoring and adding Tooltip and pop-ups.\n",
        "column_final = column_list.copy()\n",
        "column_final.append('geometry')\n",
        "column_final.append('Zip Code Score')\n",
        "folium.GeoJson(\n",
        "               main_file.loc[:, column_final],\n",
        "               style_function=style_function,\n",
        "               tooltip=folium.GeoJsonTooltip(\n",
        "                                             fields=column_list,\n",
        "                                             aliases=column_list,\n",
        "                  localize=False),\n",
        "              name='Zip Code Mapping', show=True).add_to(sweet_new_map)\n",
        "sweet_new_map.add_child(folium.map.LayerControl(collapsed=False))"
      ],
      "metadata": {
        "id": "mDRkxnW2L2j_"
      },
      "execution_count": null,
      "outputs": []
    },
    {
      "cell_type": "code",
      "source": [
        "#Creating your output file\n",
        "sweet_new_map.save(output_filename+'.html')\n"
      ],
      "metadata": {
        "id": "8bCTK2JgNND9"
      },
      "execution_count": null,
      "outputs": []
    }
  ]
}